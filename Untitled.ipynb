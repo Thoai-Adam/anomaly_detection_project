{
 "cells": [
  {
   "cell_type": "code",
   "execution_count": 1,
   "id": "c957e93f",
   "metadata": {},
   "outputs": [],
   "source": [
    "import pandas as pd"
   ]
  },
  {
   "cell_type": "code",
   "execution_count": 4,
   "id": "1bf4a20a",
   "metadata": {},
   "outputs": [
    {
     "name": "stdout",
     "output_type": "stream",
     "text": [
      "                   2018-01-26 09:55:03 / 1 8 97.105.19.61\n",
      "0            2018-01-26 09:56:02 java-ii 1 8 97.105.19.61\n",
      "1       2018-01-26 09:56:05 java-ii/object-oriented-pr...\n",
      "2       2018-01-26 09:56:06 slides/object_oriented_pro...\n",
      "3       2018-01-26 09:56:24 javascript-i/conditionals ...\n",
      "4       2018-01-26 09:56:41 javascript-i/loops 2 22 97...\n",
      "...                                                   ...\n",
      "900217  2021-04-21 16:41:51 jquery/personal-site 64 28...\n",
      "900218  2021-04-21 16:42:02 jquery/mapbox-api 64 28 71...\n",
      "900219  2021-04-21 16:42:09 jquery/ajax/weather-map 64...\n",
      "900220  2021-04-21 16:44:37 anomaly-detection/discrete...\n",
      "900221  2021-04-21 16:44:39 jquery/mapbox-api 64 28 71...\n",
      "\n",
      "[900222 rows x 1 columns]\n"
     ]
    }
   ],
   "source": [
    "df = pd.read_csv('anonymized.txt', delimiter='\\t')\n",
    "print(df)"
   ]
  },
  {
   "cell_type": "code",
   "execution_count": null,
   "id": "7c0ea597",
   "metadata": {},
   "outputs": [],
   "source": []
  }
 ],
 "metadata": {
  "kernelspec": {
   "display_name": "Python 3 (ipykernel)",
   "language": "python",
   "name": "python3"
  },
  "language_info": {
   "codemirror_mode": {
    "name": "ipython",
    "version": 3
   },
   "file_extension": ".py",
   "mimetype": "text/x-python",
   "name": "python",
   "nbconvert_exporter": "python",
   "pygments_lexer": "ipython3",
   "version": "3.11.3"
  }
 },
 "nbformat": 4,
 "nbformat_minor": 5
}
